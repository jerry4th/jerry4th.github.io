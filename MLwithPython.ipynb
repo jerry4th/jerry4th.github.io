{
  "nbformat": 4,
  "nbformat_minor": 0,
  "metadata": {
    "colab": {
      "name": "MLwithPython.ipynb",
      "provenance": [],
      "authorship_tag": "ABX9TyNCF6dSoSWQikLfbOjN9a/T",
      "include_colab_link": true
    },
    "kernelspec": {
      "name": "python3",
      "display_name": "Python 3"
    },
    "language_info": {
      "name": "python"
    }
  },
  "cells": [
    {
      "cell_type": "markdown",
      "metadata": {
        "id": "view-in-github",
        "colab_type": "text"
      },
      "source": [
        "<a href=\"https://colab.research.google.com/github/jerry4th/jerry4th.github.io/blob/gh-pages/MLwithPython.ipynb\" target=\"_parent\"><img src=\"https://colab.research.google.com/assets/colab-badge.svg\" alt=\"Open In Colab\"/></a>"
      ]
    },
    {
      "cell_type": "code",
      "metadata": {
        "colab": {
          "base_uri": "https://localhost:8080/"
        },
        "id": "IbQL-EnN_BpC",
        "outputId": "4c38fb46-96fd-41a4-e6dd-e9d990b75817"
      },
      "source": [
        "from IPython.display import display\n",
        "import numpy as np\n",
        "import matplotlib.pyplot as plt\n",
        "import pandas as pd\n",
        "# import mglearn\n",
        "\n",
        "\n",
        "import sys\n",
        "print(\"Python 버전:\", sys.version)\n",
        "\n",
        "import pandas as pd\n",
        "print(\"pandas 버전:\", pd.__version__)\n",
        "\n",
        "import matplotlib\n",
        "print(\"matplotlib 버전:\", matplotlib.__version__)\n",
        "\n",
        "import numpy as np\n",
        "print(\"NumPy 버전:\", np.__version__)\n",
        "\n",
        "import scipy as sp\n",
        "print(\"SciPy 버전:\", sp.__version__)\n",
        "\n",
        "import IPython\n",
        "print(\"IPython 버전:\", IPython.__version__)\n",
        "\n",
        "import sklearn\n",
        "print(\"scikit-learn 버전:\", sklearn.__version__)"
      ],
      "execution_count": 17,
      "outputs": [
        {
          "output_type": "stream",
          "text": [
            "Python 버전: 3.7.10 (default, Feb 20 2021, 21:17:23) \n",
            "[GCC 7.5.0]\n",
            "pandas 버전: 1.1.5\n",
            "matplotlib 버전: 3.2.2\n",
            "NumPy 버전: 1.19.5\n",
            "SciPy 버전: 1.4.1\n",
            "IPython 버전: 5.5.0\n",
            "scikit-learn 버전: 0.22.2.post1\n"
          ],
          "name": "stdout"
        }
      ]
    }
  ]
}